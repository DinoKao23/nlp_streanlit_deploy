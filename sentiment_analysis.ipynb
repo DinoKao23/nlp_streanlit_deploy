{
 "cells": [
  {
   "cell_type": "markdown",
   "metadata": {},
   "source": [
    "# Data crawling\n",
    "\n",
    "We first crawl movie reviews of Verified Audience on Rotten Tomatoes. These reviews provide star ratings which allow for easy and automatic labeling."
   ]
  },
  {
   "cell_type": "code",
   "execution_count": null,
   "metadata": {},
   "outputs": [],
   "source": [
    "import time\n",
    "\n",
    "import pandas as pd\n",
    "from bs4 import BeautifulSoup\n",
    "\n",
    "from selenium import webdriver\n",
    "from selenium.webdriver.common.by import By\n",
    "from selenium.webdriver import ActionChains\n",
    "from selenium.webdriver.support.ui import WebDriverWait\n",
    "from selenium.webdriver.support import expected_conditions as EC\n",
    "from selenium.common.exceptions import NoSuchElementException"
   ]
  },
  {
   "cell_type": "code",
   "execution_count": null,
   "metadata": {},
   "outputs": [],
   "source": [
    "def data_source(html_source, n=10):\n",
    "    \"\"\"\n",
    "    This function creates a web driver to access a movie review page on rottentomatoes\n",
    "    and performs n clicks on the load more button to load more reviews beyond the display limit.\n",
    "    html_source: str, the url of the movie review page\n",
    "    n: int, the number of times to click the load more button\n",
    "    \"\"\"\n",
    "    \n",
    "    # initialize the web driver\n",
    "    driver = webdriver.Chrome()\n",
    "    driver.get(html_source)\n",
    "    driver.implicitly_wait(50)\n",
    "\n",
    "    try:\n",
    "        # Click the load button\n",
    "        clickable = driver.find_element(By.CLASS_NAME, 'load-more-container')\n",
    "        \n",
    "        # Click it n times to load more content\n",
    "        for _ in range(n):\n",
    "            action_chains = ActionChains(driver)\n",
    "            action_chains.click(clickable).perform()\n",
    "            WebDriverWait(driver, 100).until(EC.element_to_be_clickable((By.CLASS_NAME, 'load-more-container')))\n",
    "            time\n",
    "            clickable = driver.find_element(By.CLASS_NAME, 'load-more-container')  # Update clickable element\n",
    "    except NoSuchElementException:\n",
    "        # If no more load-more button is found, stop clicking\n",
    "        pass\n",
    "    \n",
    "    driver.implicitly_wait(2)\n",
    "    return driver"
   ]
  },
  {
   "cell_type": "code",
   "execution_count": null,
   "metadata": {},
   "outputs": [],
   "source": [
    "def collect_data(driver):\n",
    "    \"\"\"\n",
    "    This function collects the star ratings and comments from the movie review page given the web driver.\n",
    "    driver: the web driver to the movie review page\n",
    "    \"\"\"\n",
    "    # Find all comments\n",
    "    comment_elements = driver.find_elements(By.CSS_SELECTOR, 'p.audience-reviews__review.js-review-text[data-qa=\"review-text\"]')\n",
    "    comment_texts = [comment.text.strip() for comment in comment_elements]\n",
    "\n",
    "    # Find the star elements and extract the star ratings\n",
    "    html_content = driver.page_source\n",
    "    soup = BeautifulSoup(html_content, \"html.parser\")\n",
    "    stars = soup.find_all(\"span\", class_=\"audience-reviews__score\")\n",
    "    # ratings = number of full stars + 0.5 * number of half stars\n",
    "    star_ratings = [len(star.find_all(\"span\", class_=\"star-display__filled\")) +\n",
    "                    0.5 * len(star.find_all(\"span\", class_=\"star-display__half\"))\n",
    "                    for star in stars]\n",
    "    \n",
    "    df = pd.DataFrame({\"star\": star_ratings, \"Verfied_Audience_Comment\":comment_texts})\n",
    "    df.reset_index(drop=True , inplace=True)\n",
    "    \n",
    "    driver.quit()\n",
    "    time.sleep(3)\n",
    "    return df"
   ]
  },
  {
   "cell_type": "code",
   "execution_count": null,
   "metadata": {},
   "outputs": [],
   "source": [
    "# Read the movie urls stored in a csv file\n",
    "# can crawl more movies by adding more urls to the csv file\n",
    "movie_urls = pd.read_csv(\"Movie_List.csv\")\n",
    "movie_urls"
   ]
  },
  {
   "cell_type": "code",
   "execution_count": null,
   "metadata": {},
   "outputs": [],
   "source": [
    "# collect reviews and ratings for each movie in the list\n",
    "df_list = []\n",
    "for url in movie_urls['Title']:\n",
    "    # try:\n",
    "    driver = data_source(url)\n",
    "    df = collect_data(driver)\n",
    "    print(url, \"success\", f'{df.shape[0]} reviews collected')\n",
    "    df_list.append(df)\n",
    "    # except:\n",
    "    #     continue"
   ]
  },
  {
   "cell_type": "code",
   "execution_count": null,
   "metadata": {},
   "outputs": [],
   "source": [
    "concat_df = pd.concat(df_list, ignore_index=True)\n",
    "concat_df"
   ]
  },
  {
   "cell_type": "code",
   "execution_count": null,
   "metadata": {},
   "outputs": [],
   "source": [
    "# label the sentiment of the reviews\n",
    "# stars < 3: negative (-1)\n",
    "# 3 <= stars < 4: neutral (0)\n",
    "# stars >= 4: positive (1)\n",
    "def label_sentiment(df, column):\n",
    "    df['label'] = 0\n",
    "    df.loc[df[column] < 3, 'label'] = -1\n",
    "    df.loc[(3 <= df[column]) & (df['star']< 4), 'label'] = 0\n",
    "    df.loc[df[column] >= 4, 'label'] = 1\n",
    "    \n",
    "    return df"
   ]
  },
  {
   "cell_type": "code",
   "execution_count": null,
   "metadata": {},
   "outputs": [],
   "source": [
    "# label the sentiment of the reviews and save the data\n",
    "concat_df = label_sentiment(concat_df, 'star')\n",
    "concat_df.to_csv(\"action_movie.csv\", index= False)"
   ]
  },
  {
   "cell_type": "markdown",
   "metadata": {},
   "source": [
    "# Data cleaning\n",
    "\n",
    "We then clean the collected data. The cleaning process involves 4 steps:\n",
    "1. Remove special characters but keep basic punctuation.\n",
    "2. Remove non-english reviews\n",
    "3. Remove stop words.\n",
    "4. Handle missing data (if any) and remove duplicates (if any)"
   ]
  },
  {
   "cell_type": "code",
   "execution_count": 1,
   "metadata": {},
   "outputs": [],
   "source": [
    "import pandas as pd\n",
    "import regex as re\n",
    "from langdetect import detect, LangDetectException\n",
    "from nltk.corpus import stopwords"
   ]
  },
  {
   "cell_type": "code",
   "execution_count": 2,
   "metadata": {},
   "outputs": [],
   "source": [
    "# Load the data\n",
    "data = pd.read_csv('action_movie_v2.csv')\n",
    "\n",
    "# function to remove special characters but keep basic punctuation\n",
    "def clean_text(text):\n",
    "    cleaned_text = re.sub(r'[^a-zA-Z0-9\\s.,!?]', '', text)\n",
    "    return cleaned_text\n",
    "\n",
    "# apply the cleaning function\n",
    "data['Verfied_Audience_Comment'] = data['Verfied_Audience_Comment'].apply(clean_text)\n",
    "\n",
    "# function to detect English language\n",
    "def is_english(text):\n",
    "    try:\n",
    "        return detect(text) == 'en'\n",
    "    except LangDetectException:\n",
    "        return False\n",
    "\n",
    "# filter out non-English reviews\n",
    "data = data[data['Verfied_Audience_Comment'].apply(is_english)]"
   ]
  },
  {
   "cell_type": "code",
   "execution_count": 3,
   "metadata": {},
   "outputs": [
    {
     "data": {
      "text/html": [
       "<div>\n",
       "<style scoped>\n",
       "    .dataframe tbody tr th:only-of-type {\n",
       "        vertical-align: middle;\n",
       "    }\n",
       "\n",
       "    .dataframe tbody tr th {\n",
       "        vertical-align: top;\n",
       "    }\n",
       "\n",
       "    .dataframe thead th {\n",
       "        text-align: right;\n",
       "    }\n",
       "</style>\n",
       "<table border=\"1\" class=\"dataframe\">\n",
       "  <thead>\n",
       "    <tr style=\"text-align: right;\">\n",
       "      <th></th>\n",
       "      <th>star</th>\n",
       "      <th>Verfied_Audience_Comment</th>\n",
       "      <th>label</th>\n",
       "    </tr>\n",
       "  </thead>\n",
       "  <tbody>\n",
       "    <tr>\n",
       "      <th>0</th>\n",
       "      <td>3.5</td>\n",
       "      <td>movie carried two charismatic leads, idris elb...</td>\n",
       "      <td>0</td>\n",
       "    </tr>\n",
       "    <tr>\n",
       "      <th>1</th>\n",
       "      <td>3.5</td>\n",
       "      <td>action person you. pure adrenaline rush. openi...</td>\n",
       "      <td>0</td>\n",
       "    </tr>\n",
       "    <tr>\n",
       "      <th>2</th>\n",
       "      <td>0.5</td>\n",
       "      <td>wow, get movie theaters describing movie isnt ...</td>\n",
       "      <td>-1</td>\n",
       "    </tr>\n",
       "    <tr>\n",
       "      <th>4</th>\n",
       "      <td>4.0</td>\n",
       "      <td>cool action story, great summer blockbuster</td>\n",
       "      <td>1</td>\n",
       "    </tr>\n",
       "    <tr>\n",
       "      <th>5</th>\n",
       "      <td>4.0</td>\n",
       "      <td>lots fun dialogand great action. ill gladly wa...</td>\n",
       "      <td>1</td>\n",
       "    </tr>\n",
       "  </tbody>\n",
       "</table>\n",
       "</div>"
      ],
      "text/plain": [
       "   star                           Verfied_Audience_Comment  label\n",
       "0   3.5  movie carried two charismatic leads, idris elb...      0\n",
       "1   3.5  action person you. pure adrenaline rush. openi...      0\n",
       "2   0.5  wow, get movie theaters describing movie isnt ...     -1\n",
       "4   4.0        cool action story, great summer blockbuster      1\n",
       "5   4.0  lots fun dialogand great action. ill gladly wa...      1"
      ]
     },
     "execution_count": 3,
     "metadata": {},
     "output_type": "execute_result"
    }
   ],
   "source": [
    "# Convert text to lowercase\n",
    "data['Verfied_Audience_Comment'] = data['Verfied_Audience_Comment'].str.lower()\n",
    "\n",
    "# Remove stopwords\n",
    "stop = stopwords.words('english')\n",
    "data['Verfied_Audience_Comment'] = data['Verfied_Audience_Comment'].apply(lambda x: ' '.join([word for word in x.split() if word not in (stop)]))\n",
    "\n",
    "# Check for any missing values and drop\n",
    "data.dropna(inplace=True)\n",
    "\n",
    "# Remove duplicates\n",
    "data.drop_duplicates(inplace=True)\n",
    "\n",
    "# Show cleaned data\n",
    "data.head(5)"
   ]
  },
  {
   "cell_type": "code",
   "execution_count": 4,
   "metadata": {},
   "outputs": [
    {
     "data": {
      "text/plain": [
       "(7463, 3)"
      ]
     },
     "execution_count": 4,
     "metadata": {},
     "output_type": "execute_result"
    }
   ],
   "source": [
    "data.shape"
   ]
  },
  {
   "cell_type": "code",
   "execution_count": 5,
   "metadata": {},
   "outputs": [],
   "source": [
    "# Save the cleaned DataFrame to a CSV file\n",
    "data.to_csv('cleaned_action_movie_v2.csv', index=False)"
   ]
  },
  {
   "cell_type": "markdown",
   "metadata": {},
   "source": [
    "# Feature Engineering with BERT\n",
    "\n",
    "After the data is cleaned, we proceed to vectorize the data to prepare it for training machine learning models. We will use BERT -- a modern embedding method that transforms each sequence of words to a dense, multi-dimensional vector. This vectorized data will then be used to train machine learning models for movie review sentiment analysis."
   ]
  },
  {
   "cell_type": "code",
   "execution_count": 6,
   "metadata": {},
   "outputs": [
    {
     "name": "stderr",
     "output_type": "stream",
     "text": [
      "C:\\Users\\linkd\\AppData\\Roaming\\Python\\Python311\\site-packages\\tqdm\\auto.py:21: TqdmWarning: IProgress not found. Please update jupyter and ipywidgets. See https://ipywidgets.readthedocs.io/en/stable/user_install.html\n",
      "  from .autonotebook import tqdm as notebook_tqdm\n",
      "C:\\Users\\linkd\\AppData\\Roaming\\Python\\Python311\\site-packages\\transformers\\utils\\generic.py:311: UserWarning: torch.utils._pytree._register_pytree_node is deprecated. Please use torch.utils._pytree.register_pytree_node instead.\n",
      "  torch.utils._pytree._register_pytree_node(\n"
     ]
    }
   ],
   "source": [
    "import pandas as pd\n",
    "import numpy as np\n",
    "import torch\n",
    "import random\n",
    "from tqdm import tqdm\n",
    "from transformers import DistilBertModel, DistilBertTokenizer, BertModel, BertTokenizer\n",
    "from sklearn.model_selection import train_test_split\n",
    "from sklearn.linear_model import LogisticRegression\n",
    "from sklearn.metrics import classification_report, accuracy_score\n",
    "\n",
    "# set seed\n",
    "seed = 0\n",
    "np.random.seed(seed)\n",
    "torch.manual_seed(seed)\n",
    "random.seed(seed)"
   ]
  },
  {
   "cell_type": "code",
   "execution_count": 7,
   "metadata": {},
   "outputs": [
    {
     "data": {
      "text/html": [
       "<div>\n",
       "<style scoped>\n",
       "    .dataframe tbody tr th:only-of-type {\n",
       "        vertical-align: middle;\n",
       "    }\n",
       "\n",
       "    .dataframe tbody tr th {\n",
       "        vertical-align: top;\n",
       "    }\n",
       "\n",
       "    .dataframe thead th {\n",
       "        text-align: right;\n",
       "    }\n",
       "</style>\n",
       "<table border=\"1\" class=\"dataframe\">\n",
       "  <thead>\n",
       "    <tr style=\"text-align: right;\">\n",
       "      <th></th>\n",
       "      <th>star</th>\n",
       "      <th>Verfied_Audience_Comment</th>\n",
       "      <th>label</th>\n",
       "    </tr>\n",
       "  </thead>\n",
       "  <tbody>\n",
       "    <tr>\n",
       "      <th>0</th>\n",
       "      <td>3.5</td>\n",
       "      <td>movie carried two charismatic leads, idris elb...</td>\n",
       "      <td>0</td>\n",
       "    </tr>\n",
       "    <tr>\n",
       "      <th>1</th>\n",
       "      <td>3.5</td>\n",
       "      <td>action person you. pure adrenaline rush. openi...</td>\n",
       "      <td>0</td>\n",
       "    </tr>\n",
       "    <tr>\n",
       "      <th>2</th>\n",
       "      <td>0.5</td>\n",
       "      <td>wow, get movie theaters describing movie isnt ...</td>\n",
       "      <td>-1</td>\n",
       "    </tr>\n",
       "    <tr>\n",
       "      <th>3</th>\n",
       "      <td>4.0</td>\n",
       "      <td>cool action story, great summer blockbuster</td>\n",
       "      <td>1</td>\n",
       "    </tr>\n",
       "    <tr>\n",
       "      <th>4</th>\n",
       "      <td>4.0</td>\n",
       "      <td>lots fun dialogand great action. ill gladly wa...</td>\n",
       "      <td>1</td>\n",
       "    </tr>\n",
       "  </tbody>\n",
       "</table>\n",
       "</div>"
      ],
      "text/plain": [
       "   star                           Verfied_Audience_Comment  label\n",
       "0   3.5  movie carried two charismatic leads, idris elb...      0\n",
       "1   3.5  action person you. pure adrenaline rush. openi...      0\n",
       "2   0.5  wow, get movie theaters describing movie isnt ...     -1\n",
       "3   4.0        cool action story, great summer blockbuster      1\n",
       "4   4.0  lots fun dialogand great action. ill gladly wa...      1"
      ]
     },
     "execution_count": 7,
     "metadata": {},
     "output_type": "execute_result"
    }
   ],
   "source": [
    "# load data\n",
    "df = pd.read_csv('cleaned_action_movie_v2.csv')\n",
    "df.head()"
   ]
  },
  {
   "cell_type": "code",
   "execution_count": 8,
   "metadata": {},
   "outputs": [],
   "source": [
    "# we load the DistilBERT model and tokenizer from the transformers library\n",
    "tokenizer = DistilBertTokenizer.from_pretrained('distilbert-base-uncased')\n",
    "model = DistilBertModel.from_pretrained('distilbert-base-uncased')\n",
    "\n",
    "# for better performance with the cost of increased runtime, we can use the BERT model instead of the DistilBERT model\n",
    "# tokenizer = BertTokenizer.from_pretrained('bert-base-uncased')\n",
    "# model = BertModel.from_pretrained('bert-base-uncased')"
   ]
  },
  {
   "cell_type": "code",
   "execution_count": 9,
   "metadata": {},
   "outputs": [],
   "source": [
    "# we tokenize each review into a sequence of word indices in a fixed vocabulary\n",
    "tokenized = df['Verfied_Audience_Comment'].apply((lambda x: tokenizer.encode(x, add_special_tokens=True)))"
   ]
  },
  {
   "cell_type": "code",
   "execution_count": 10,
   "metadata": {},
   "outputs": [
    {
     "data": {
      "text/plain": [
       "[101, 3185, 3344, 2048, 23916]"
      ]
     },
     "execution_count": 10,
     "metadata": {},
     "output_type": "execute_result"
    }
   ],
   "source": [
    "tokenized[0][:5] # first 5 word indices of the first review"
   ]
  },
  {
   "cell_type": "markdown",
   "metadata": {},
   "source": [
    "The BERT model can vectorize multiple reviews at once (called batching) but all reviews must have the same length to pass through the model. Therefore, we pad all reviews to a fixed length with a dummy token (indexed 0 in the vocabulary). To do that, we first find the length of the longest review in the data, and at the same time filter out any review that is longer than what the model can handle."
   ]
  },
  {
   "cell_type": "code",
   "execution_count": 11,
   "metadata": {},
   "outputs": [],
   "source": [
    "max_len = 0 # the maximum sequence length of the reviews\n",
    "for i, review in enumerate(tokenized.values):\n",
    "    if len(review) > max_len:\n",
    "        max_len = len(review)\n",
    "\n",
    "# pad the sequences to the maximum length\n",
    "padded = np.array([review + [0]*(max_len-len(review)) for i, review in enumerate(tokenized.values)])"
   ]
  },
  {
   "cell_type": "code",
   "execution_count": 12,
   "metadata": {},
   "outputs": [
    {
     "name": "stdout",
     "output_type": "stream",
     "text": [
      "(7463, 401)\n"
     ]
    }
   ],
   "source": [
    "print (padded.shape)"
   ]
  },
  {
   "cell_type": "markdown",
   "metadata": {},
   "source": [
    "The maximum length of reviews is 401."
   ]
  },
  {
   "cell_type": "code",
   "execution_count": 13,
   "metadata": {},
   "outputs": [
    {
     "name": "stdout",
     "output_type": "stream",
     "text": [
      "Before padding: [101, 3185, 3344, 2048, 23916, 5260, 1010, 8909, 6935, 3449, 3676, 2092, 1012, 102]\n",
      "After padding: [  101  3185  3344  2048 23916  5260  1010  8909  6935  3449  3676  2092\n",
      "  1012   102     0     0     0     0     0     0     0     0     0     0\n",
      "     0     0     0     0     0     0     0     0     0     0     0     0\n",
      "     0     0     0     0     0     0     0     0     0     0     0     0\n",
      "     0     0]\n"
     ]
    }
   ],
   "source": [
    "# verify that padding works as expected\n",
    "print ('Before padding:', tokenized[0][:50])\n",
    "print ('After padding:', padded[0][:50])"
   ]
  },
  {
   "cell_type": "markdown",
   "metadata": {},
   "source": [
    "Because the padded tokens are dummy, we want the BERT model to ignore these tokens when embedding each review. We do this by masking out these tokens when passing the padded tokenized reviews through the model. "
   ]
  },
  {
   "cell_type": "code",
   "execution_count": 14,
   "metadata": {},
   "outputs": [],
   "source": [
    "attention_mask = np.where(padded != 0, 1, 0) # 0 means ignore\n",
    "attention_mask = torch.tensor(attention_mask)\n",
    "input_ids = torch.tensor(padded)"
   ]
  },
  {
   "cell_type": "code",
   "execution_count": 15,
   "metadata": {},
   "outputs": [
    {
     "name": "stdout",
     "output_type": "stream",
     "text": [
      "Input ids: tensor([  101,  3185,  3344,  2048, 23916,  5260,  1010,  8909,  6935,  3449,\n",
      "         3676,  2092,  1012,   102,     0,     0,     0,     0,     0,     0,\n",
      "            0,     0,     0,     0,     0,     0,     0,     0,     0,     0,\n",
      "            0,     0,     0,     0,     0,     0,     0,     0,     0,     0,\n",
      "            0,     0,     0,     0,     0,     0,     0,     0,     0,     0],\n",
      "       dtype=torch.int32)\n",
      "Attention mask: tensor([1, 1, 1, 1, 1, 1, 1, 1, 1, 1, 1, 1, 1, 1, 0, 0, 0, 0, 0, 0, 0, 0, 0, 0,\n",
      "        0, 0, 0, 0, 0, 0, 0, 0, 0, 0, 0, 0, 0, 0, 0, 0, 0, 0, 0, 0, 0, 0, 0, 0,\n",
      "        0, 0], dtype=torch.int32)\n"
     ]
    }
   ],
   "source": [
    "print ('Input ids:', input_ids[0][:50])\n",
    "print ('Attention mask:', attention_mask[0][:50])"
   ]
  },
  {
   "cell_type": "code",
   "execution_count": 16,
   "metadata": {},
   "outputs": [
    {
     "name": "stderr",
     "output_type": "stream",
     "text": [
      "  0%|          | 0/15 [00:00<?, ?it/s]"
     ]
    }
   ],
   "source": [
    "# pass the input ids and attention mask to the model to get the embedding for each review\n",
    "batch_size = 512\n",
    "embeddings = []\n",
    "with torch.no_grad():\n",
    "    for i in tqdm(range(0, len(input_ids), batch_size)):\n",
    "        batch_input_ids = input_ids[i:i+batch_size]\n",
    "        batch_attention_mask = attention_mask[i:i+batch_size]\n",
    "        batch_last_hidden_states = model(batch_input_ids, attention_mask=batch_attention_mask)\n",
    "        embeddings.append(batch_last_hidden_states[0][:,0,:].numpy())\n",
    "embeddings = np.concatenate(embeddings)"
   ]
  },
  {
   "cell_type": "code",
   "execution_count": 60,
   "metadata": {},
   "outputs": [
    {
     "data": {
      "text/plain": [
       "(7464, 768)"
      ]
     },
     "execution_count": 60,
     "metadata": {},
     "output_type": "execute_result"
    }
   ],
   "source": [
    "embeddings.shape"
   ]
  },
  {
   "cell_type": "markdown",
   "metadata": {},
   "source": [
    "# Sentiment Analysis\n",
    "\n",
    "Now we have vectorized the reviews to numpy arrays, we can use standard machine learning algorithms in sklearn to classify each review to one of 3 sentiment labels."
   ]
  },
  {
   "cell_type": "code",
   "execution_count": 61,
   "metadata": {},
   "outputs": [
    {
     "data": {
      "text/plain": [
       "(7464, 7464)"
      ]
     },
     "execution_count": 61,
     "metadata": {},
     "output_type": "execute_result"
    }
   ],
   "source": [
    "# get the labels and remove the skipped reviews\n",
    "labels = df['label']\n",
    "len(labels), len(embeddings)"
   ]
  },
  {
   "cell_type": "code",
   "execution_count": 62,
   "metadata": {},
   "outputs": [
    {
     "data": {
      "text/plain": [
       "<Axes: xlabel='label'>"
      ]
     },
     "execution_count": 62,
     "metadata": {},
     "output_type": "execute_result"
    },
    {
     "data": {
      "image/png": "[encoded data removed]",
      "text/plain": [
       "<Figure size 640x480 with 1 Axes>"
      ]
     },
     "metadata": {},
     "output_type": "display_data"
    }
   ],
   "source": [
    "# plot the distribution of the labels\n",
    "labels.value_counts().sort_index().plot(kind='bar')"
   ]
  },
  {
   "cell_type": "markdown",
   "metadata": {},
   "source": [
    "The plot shows that the positive reviews dominate in this dataset, while the neutral reviews are the minority."
   ]
  },
  {
   "cell_type": "code",
   "execution_count": 63,
   "metadata": {},
   "outputs": [],
   "source": [
    "# split the data to training and testing\n",
    "train_features, test_features, train_labels, test_labels = train_test_split(embeddings, labels)"
   ]
  },
  {
   "cell_type": "code",
   "execution_count": 64,
   "metadata": {},
   "outputs": [
    {
     "data": {
      "text/plain": [
       "((5598, 768), (5598,))"
      ]
     },
     "execution_count": 64,
     "metadata": {},
     "output_type": "execute_result"
    }
   ],
   "source": [
    "train_features.shape, train_labels.shape"
   ]
  },
  {
   "cell_type": "code",
   "execution_count": 65,
   "metadata": {},
   "outputs": [
    {
     "data": {
      "text/plain": [
       "((1866, 768), (1866,))"
      ]
     },
     "execution_count": 65,
     "metadata": {},
     "output_type": "execute_result"
    }
   ],
   "source": [
    "test_features.shape, test_labels.shape"
   ]
  },
  {
   "cell_type": "code",
   "execution_count": 66,
   "metadata": {},
   "outputs": [
    {
     "name": "stdout",
     "output_type": "stream",
     "text": [
      "Accuracy: 0.8135048231511254\n",
      "Classification Report:\n",
      "              precision    recall  f1-score   support\n",
      "\n",
      "    Negative       0.65      0.59      0.62       236\n",
      "     Neutral       0.36      0.18      0.24       211\n",
      "    Positive       0.87      0.95      0.90      1419\n",
      "\n",
      "    accuracy                           0.81      1866\n",
      "   macro avg       0.62      0.57      0.59      1866\n",
      "weighted avg       0.78      0.81      0.79      1866\n",
      "\n"
     ]
    }
   ],
   "source": [
    "# Initialize the Logistic Regression classifier\n",
    "# Setting solver to 'lbfgs' as it can handle multinomial loss for multiclass problems\n",
    "# Increasing 'max_iter' might be necessary for convergence on some datasets\n",
    "lr_clf = LogisticRegression(multi_class='multinomial', solver='lbfgs', max_iter=5000, random_state=42)\n",
    "\n",
    "# Train the classifier\n",
    "lr_clf.fit(train_features, train_labels)\n",
    "\n",
    "# Make predictions on the test set\n",
    "test_predictions = lr_clf.predict(test_features)\n",
    "\n",
    "# Evaluate the classifier\n",
    "accuracy = accuracy_score(test_labels, test_predictions)\n",
    "clf_report = classification_report(test_labels, test_predictions, target_names=['Negative', 'Neutral', 'Positive'])\n",
    "\n",
    "print(f\"Accuracy: {accuracy}\")\n",
    "print(\"Classification Report:\")\n",
    "print(clf_report)"
   ]
  },
  {
   "cell_type": "code",
   "execution_count": 67,
   "metadata": {},
   "outputs": [
    {
     "data": {
      "text/plain": [
       "['sentiment_analysis_model.pkl']"
      ]
     },
     "execution_count": 67,
     "metadata": {},
     "output_type": "execute_result"
    }
   ],
   "source": [
    "# save the model to disk\n",
    "import joblib\n",
    "joblib.dump(lr_clf, 'sentiment_analysis_model.pkl')"
   ]
  },
  {
   "cell_type": "markdown",
   "metadata": {},
   "source": [
    "We compare the performance of the model with a dummy model."
   ]
  },
  {
   "cell_type": "code",
   "execution_count": 68,
   "metadata": {},
   "outputs": [
    {
     "name": "stdout",
     "output_type": "stream",
     "text": [
      "Accuracy: 0.7604501607717041\n",
      "Classification Report:\n",
      "              precision    recall  f1-score   support\n",
      "\n",
      "    Negative       0.00      0.00      0.00       236\n",
      "     Neutral       0.00      0.00      0.00       211\n",
      "    Positive       0.76      1.00      0.86      1419\n",
      "\n",
      "    accuracy                           0.76      1866\n",
      "   macro avg       0.25      0.33      0.29      1866\n",
      "weighted avg       0.58      0.76      0.66      1866\n",
      "\n"
     ]
    },
    {
     "name": "stderr",
     "output_type": "stream",
     "text": [
      "/home/tungnd/miniconda3/envs/bbo-llm/lib/python3.11/site-packages/sklearn/metrics/_classification.py:1471: UndefinedMetricWarning: Precision and F-score are ill-defined and being set to 0.0 in labels with no predicted samples. Use `zero_division` parameter to control this behavior.\n",
      "  _warn_prf(average, modifier, msg_start, len(result))\n",
      "/home/tungnd/miniconda3/envs/bbo-llm/lib/python3.11/site-packages/sklearn/metrics/_classification.py:1471: UndefinedMetricWarning: Precision and F-score are ill-defined and being set to 0.0 in labels with no predicted samples. Use `zero_division` parameter to control this behavior.\n",
      "  _warn_prf(average, modifier, msg_start, len(result))\n",
      "/home/tungnd/miniconda3/envs/bbo-llm/lib/python3.11/site-packages/sklearn/metrics/_classification.py:1471: UndefinedMetricWarning: Precision and F-score are ill-defined and being set to 0.0 in labels with no predicted samples. Use `zero_division` parameter to control this behavior.\n",
      "  _warn_prf(average, modifier, msg_start, len(result))\n"
     ]
    }
   ],
   "source": [
    "from sklearn.dummy import DummyClassifier\n",
    "clf = DummyClassifier()\n",
    "\n",
    "clf.fit(train_features, train_labels)\n",
    "\n",
    "# Make predictions on the test set\n",
    "dummy_test_predictions = clf.predict(test_features)\n",
    "\n",
    "# Evaluate the classifier\n",
    "accuracy = accuracy_score(test_labels, dummy_test_predictions)\n",
    "dummy_clf_report = classification_report(test_labels, dummy_test_predictions, target_names=['Negative', 'Neutral', 'Positive'])\n",
    "print(f\"Accuracy: {accuracy}\")\n",
    "print(\"Classification Report:\")\n",
    "print(dummy_clf_report)"
   ]
  },
  {
   "cell_type": "markdown",
   "metadata": {},
   "source": [
    "Our model performs significantly better than the dummy model. However, it can also be seen that the model performs poorty w.r.t. negative and neutral reviews, which have less data points in the dataset compared to the positive reviews."
   ]
  },
  {
   "cell_type": "markdown",
   "metadata": {},
   "source": []
  }
 ],
 "metadata": {
  "kernelspec": {
   "display_name": "bbo-llm",
   "language": "python",
   "name": "python3"
  },
  "language_info": {
   "codemirror_mode": {
    "name": "ipython",
    "version": 3
   },
   "file_extension": ".py",
   "mimetype": "text/x-python",
   "name": "python",
   "nbconvert_exporter": "python",
   "pygments_lexer": "ipython3",
   "version": "3.11.5"
  }
 },
 "nbformat": 4,
 "nbformat_minor": 2
}
